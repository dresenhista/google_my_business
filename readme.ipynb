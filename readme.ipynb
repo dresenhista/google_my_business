{
 "cells": [
  {
   "cell_type": "markdown",
   "metadata": {},
   "source": [
    "# Pulling Review from Google My Business with Python\n",
    "\n",
    "After stumbling on a few scripts that did not work, I decided it was time to build my own. The context for this project is to pull all the reviews from Google My Business and then analyse which subjects people talk more about my business.\n",
    "\n",
    "## But First\n",
    "Before we start using the code you need to be allowed to use the API by Google.\n",
    "The process is basically:\n",
    "1. Create a project in the Google API Console, just like in here: https://developers.google.com/my-business/content/prereqs\n",
    "2. Apply for a access and wait, you do need to have an email from the business you are trying to get access. \n",
    "3. Then after you receive the email confirming, you need to extract the files as explained in the link https://developers.google.com/my-business/content/basic-setup\n",
    "\n",
    "I am also following the initial instructions provided in this link:\n",
    "https://developers.google.com/my-business/content/python\n",
    "\n",
    "Now you have your token file plus the business information file let's pull the data. You will need to import the libraries below, so make sure you have them installed into Jupyter/Python.\n",
    "\n"
   ]
  },
  {
   "cell_type": "code",
   "execution_count": 34,
   "metadata": {},
   "outputs": [],
   "source": [
    "import sys\t\n",
    "import json\n",
    "from pprint import pprint\n",
    "from googleapiclient import sample_tools\n",
    "from googleapiclient.http import build_http\n",
    "import pandas as pd\n",
    "import IPython"
   ]
  },
  {
   "cell_type": "code",
   "execution_count": 44,
   "metadata": {},
   "outputs": [],
   "source": [
    "#Business file exported from the API Console project page: \n",
    "discovery_doc = \"myBusiness_discovery.json\""
   ]
  },
  {
   "cell_type": "markdown",
   "metadata": {},
   "source": [
    "## Now that we started\n",
    "This code will not work on jupyter because of __doc__ and __file__ that are unavailable for, therefore use the sample.py file in this repository.\n",
    "\n",
    "My business only has one location, therefore I am returning only the first location, if your business has multiple locations, you might change the function below"
   ]
  },
  {
   "cell_type": "code",
   "execution_count": 45,
   "metadata": {},
   "outputs": [],
   "source": [
    "def location():\n",
    "    # Use the discovery doc to build a service that we can use to make\n",
    "    # MyBusiness API calls, and authenticate the user so we can access their\n",
    "    # account\n",
    "    currentNotebook = IPython.notebookname()\n",
    "\n",
    "    service, flags = sample_tools.init(['Google Reviews.ipynb'], \"mybusiness\", \"v4\", __doc__, __file__, scope=\"https://www.googleapis.com/auth/business.manage\", discovery_filename=discovery_doc)\n",
    "    output = service.accounts().list().execute()\n",
    "\n",
    "    # print(\"List of Accounts:\\n\")\n",
    "    # print(json.dumps(output, indent=2) + \"\\n\")\n",
    "\n",
    "    firstAccount = output[\"accounts\"][0][\"name\"]\n",
    "    # Get the list of locations for the first account in the list\n",
    "    # print(\"List of Locations for Account \" + firstAccount)\n",
    "    locationsList = service.accounts().locations().list(parent=firstAccount).execute()\n",
    "    firstLocation = locationsList[\"locations\"][0][\"name\"]\n",
    "    return firstLocation  "
   ]
  },
  {
   "cell_type": "markdown",
   "metadata": {},
   "source": [
    "There are a few things you can do using the API, I want to pull the reviews for my business which is done using the function below:"
   ]
  },
  {
   "cell_type": "code",
   "execution_count": 46,
   "metadata": {},
   "outputs": [],
   "source": [
    "def reviews(location):\n",
    "    # Use the discovery doc to build a service that we can use to make\n",
    "    # MyBusiness API calls, and authenticate the user so we can access their\n",
    "    # account\n",
    "    currentNotebook = IPython.foo.bar.notebookname()\n",
    "    service, flags = sample_tools.init(['sample.py'], \"mybusiness\", \"v4\", __doc__, currentNotebook, scope=\"https://www.googleapis.com/auth/business.manage\", discovery_filename=discovery_doc)\n",
    "\n",
    "    reviewsApi = service.accounts().locations().reviews()\n",
    "    request = reviewsApi.list(parent=location)\n",
    "    #reviewsList = request.execute()\n",
    "    reviews = []\n",
    "\n",
    "    # pagination\n",
    "    # https://developers.google.com/api-client-library/python/guide/pagination\n",
    "    while request is not None:\n",
    "      response = request.execute()\n",
    "\n",
    "      # Do something with the activities\n",
    "      reviews += response[\"reviews\"]\n",
    "\n",
    "      request = reviewsApi.list_next(request, response) # all pages\n",
    "      # request = None # first page only\n",
    "\n",
    "    print(len(reviews))\n",
    "    return reviews"
   ]
  },
  {
   "cell_type": "markdown",
   "metadata": {},
   "source": [
    "The output of the file is a Json format file, so we want to flat it before we load it into a csv."
   ]
  },
  {
   "cell_type": "code",
   "execution_count": 29,
   "metadata": {},
   "outputs": [],
   "source": [
    "def flattenjson( b, delim=\"__\" ):\n",
    "    val = {}\n",
    "    for i in b.keys():\n",
    "        if isinstance( b[i], dict ):\n",
    "            get = flattenjson( b[i], delim )\n",
    "            for j in get.keys():\n",
    "                val[ i + delim + j ] = get[j]\n",
    "        else:\n",
    "            val[i] = b[i]\n",
    "\n",
    "    return val\n",
    "\n",
    "def flatlist(items):\n",
    "    return [flattenjson(item) for item in items]"
   ]
  },
  {
   "cell_type": "markdown",
   "metadata": {},
   "source": [
    "Finally we are ready to export it to a csv"
   ]
  },
  {
   "cell_type": "code",
   "execution_count": 30,
   "metadata": {},
   "outputs": [],
   "source": [
    "\n",
    "def export_csv(reviews_dict, dest='reviews.csv'):\n",
    "    df = pd.DataFrame(flatlist(reviews_dict))\n",
    "    output = open(dest, 'w', encoding=\"utf-8\")\n",
    "    output.write(df.to_csv())"
   ]
  },
  {
   "cell_type": "markdown",
   "metadata": {},
   "source": [
    "and now we call the functions"
   ]
  },
  {
   "cell_type": "code",
   "execution_count": 47,
   "metadata": {},
   "outputs": [],
   "source": [
    "def main(argv):\n",
    "    export_csv(reviews(location()))\n"
   ]
  },
  {
   "cell_type": "markdown",
   "metadata": {},
   "source": [
    "At the end of this project, you should have a reviews.csv file with the json data broken out into columns. "
   ]
  },
  {
   "cell_type": "code",
   "execution_count": null,
   "metadata": {},
   "outputs": [],
   "source": []
  }
 ],
 "metadata": {
  "kernelspec": {
   "display_name": "Python 3",
   "language": "python",
   "name": "python3"
  },
  "language_info": {
   "codemirror_mode": {
    "name": "ipython",
    "version": 3
   },
   "file_extension": ".py",
   "mimetype": "text/x-python",
   "name": "python",
   "nbconvert_exporter": "python",
   "pygments_lexer": "ipython3",
   "version": "3.7.1"
  }
 },
 "nbformat": 4,
 "nbformat_minor": 2
}
